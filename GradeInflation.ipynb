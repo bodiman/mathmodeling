{
  "nbformat": 4,
  "nbformat_minor": 0,
  "metadata": {
    "colab": {
      "provenance": [],
      "include_colab_link": true
    },
    "kernelspec": {
      "name": "python3",
      "display_name": "Python 3"
    },
    "language_info": {
      "name": "python"
    }
  },
  "cells": [
    {
      "cell_type": "markdown",
      "metadata": {
        "id": "view-in-github",
        "colab_type": "text"
      },
      "source": [
        "<a href=\"https://colab.research.google.com/github/bodiman/mathmodeling/blob/main/GradeInflation.ipynb\" target=\"_parent\"><img src=\"https://colab.research.google.com/assets/colab-badge.svg\" alt=\"Open In Colab\"/></a>"
      ]
    },
    {
      "cell_type": "code",
      "source": [
        "from matplotlib import pyplot as plt\n",
        "import statistics\n",
        "import numpy as np"
      ],
      "metadata": {
        "id": "M9WV-gcIT2kZ"
      },
      "execution_count": 1,
      "outputs": []
    },
    {
      "cell_type": "code",
      "source": [
        "# grades = [\"A+\", \"A\", \"A-\", \"B+\", \"B\", \"B-\", \"C+\", \"C\", \"C-\", \"D+\", \"D\", \"D-\", \"F\"]\n",
        "# values = [12, 11, 10, 9, 8, 7, 6, 5, 4, 3, 2, 1, 0]\n",
        "\n",
        "# #These are our assumptions for class difficulties\n",
        "# min_average = 5\n",
        "# max_average = 11\n",
        "\n",
        "# min_stdv = 0\n",
        "# max_stdv = 5"
      ],
      "metadata": {
        "id": "rCLSlaFVSccg"
      },
      "execution_count": 2,
      "outputs": []
    },
    {
      "cell_type": "code",
      "source": [
        "grades = [\"A\", \"B\", \"C\", \"D\", \"F\"]\n",
        "values = [4, 3, 2, 1, 0]\n",
        "\n",
        "#These are our assumptions for class difficulties\n",
        "min_average = 4\n",
        "max_average = 2\n",
        "\n",
        "min_stdv = 0\n",
        "max_stdv = 1.5"
      ],
      "metadata": {
        "id": "mQCbjJmOPafj"
      },
      "execution_count": 95,
      "outputs": []
    },
    {
      "cell_type": "code",
      "source": [
        "\"\"\"\n",
        "Generates mean and standard deviations for each class' grading curve\n",
        "\n",
        "\n",
        "Parameters:\n",
        "\n",
        "n_classes: number of classes to generate\n",
        "\n",
        "min_average: the minimum average class grade\n",
        "\n",
        "max_average: the maximum average class grade\n",
        "\n",
        "min_stdv: the minimum class curve standard deviation\n",
        "\n",
        "max_stdv: the maximum class curve standard deviation\n",
        "\n",
        "\n",
        "Output:\n",
        "\n",
        "classes: a list of shape (n_classes, 2) cointaining a mean and standard deviation for each class\n",
        "\n",
        "\"\"\"\n",
        "def gen_classes(n_classes, min_average, max_average, min_stdv, max_stdv):\n",
        "  classes = []\n",
        "  for k in range(n_classes):\n",
        "    average_grades=np.random.uniform(min_average, max_average)\n",
        "    standard_deviations=np.random.uniform(min_stdv, max_stdv)\n",
        "    classes.append([average_grades,standard_deviations])\n",
        "  return classes\n",
        "\n",
        "classes = gen_classes(10, min_average, max_average, min_stdv, max_stdv)"
      ],
      "metadata": {
        "id": "eKdWsRL8AvII"
      },
      "execution_count": 20,
      "outputs": []
    },
    {
      "cell_type": "code",
      "source": [
        "\"\"\"\n",
        "Generates an ordered list of student \"intrinsic skill levels\"\n",
        "\n",
        "Parameters:\n",
        "\n",
        "n_students: number of student skill levels to generate\n",
        "\"\"\"\n",
        "def generate_students(n_students):\n",
        "  students = np.random.normal(0, 1, n_students).tolist()\n",
        "  students.sort()\n",
        "  return students\n",
        "\n",
        "students = generate_students(100)"
      ],
      "metadata": {
        "id": "aQ5zv41tC2-Q"
      },
      "execution_count": 4,
      "outputs": []
    },
    {
      "cell_type": "code",
      "source": [
        "\"\"\"\n",
        "Sorts students into classes\n",
        "\n",
        "\n",
        "Parameters:\n",
        "\n",
        "students: the sorted list of student skill levels\n",
        "\n",
        "classes: a list of means and standard deviations for each class\n",
        "\n",
        "n_classes: the number of classes each student is assigned to\n",
        "\n",
        "\n",
        "Output:\n",
        "\n",
        "class_package: a multidimensional list of shape (n_classes, 2, n_students)\n",
        "                containing the strengths and indices of each student where\n",
        "                n_students is the number of students in the particular class\n",
        "\"\"\"\n",
        "\n",
        "def generate_class_package(students, classes, n_classes):\n",
        "  #for each student, assign n_classes classes from the classes indices\n",
        "  student_classes = [[idx, students[idx]] + np.random.choice(np.array(list(range(len(classes)))), n_classes, replace = False).tolist() for idx in range(len(students))]\n",
        "\n",
        "  class_package = [[[], []] for _ in range(len(classes))]\n",
        "\n",
        "  for student in student_classes:\n",
        "    for classidx in student[2:]:\n",
        "      class_package[classidx][0].append(student[0])\n",
        "      class_package[classidx][1].append(student[1])\n",
        "\n",
        "  return class_package"
      ],
      "metadata": {
        "id": "lycn1sl6DrGm"
      },
      "execution_count": 27,
      "outputs": []
    },
    {
      "cell_type": "code",
      "source": [
        "class_packages = generate_class_package(students, classes, 5)"
      ],
      "metadata": {
        "id": "T6nQ4wJzZqRD"
      },
      "execution_count": 28,
      "outputs": []
    },
    {
      "cell_type": "code",
      "source": [
        "\"\"\"\n",
        "Produces letter grades for students in a particular class\n",
        "\n",
        "\n",
        "Parameters:\n",
        "\n",
        "strengths: the \"intrinsic skill levels\" of each student\n",
        "\n",
        "mean: the average numerical grade for a class\n",
        "\n",
        "standard_deviation: the standard deviation of a class' grading curve\n",
        "\n",
        "\n",
        "Output:\n",
        "\n",
        "grade_performances: letter grades for students in a particular class\n",
        "\"\"\"\n",
        "\n",
        "def add_noise(strengths, mean, standard_deviation):\n",
        "  mean_true = sum(strengths)/len(strengths)\n",
        "  stdv_true = statistics.stdev(strengths)\n",
        "\n",
        "  normalized_performances = [(score - mean_true)/stdv_true for score in strengths]\n",
        "\n",
        "  #apply grading distribution\n",
        "  distribution_performances = [score*standard_deviation + mean for score in normalized_performances]\n",
        "\n",
        "  #quantize and clip at 0-12\n",
        "  quantized_performances = [max(min(int(score), values[0]), values[-1]) for score in distribution_performances]\n",
        "  grade_performances = [grades[values.index(score)] for score in quantized_performances]\n",
        "\n",
        "  return grade_performances"
      ],
      "metadata": {
        "id": "KvQ08FBX_A9Y"
      },
      "execution_count": 97,
      "outputs": []
    },
    {
      "cell_type": "code",
      "source": [
        "def grade_class_package(class_package, class_distributions):\n",
        "  graded_package = []\n",
        "\n",
        "  for school_class, distribution in zip(class_package, class_distributions):\n",
        "    idxs = school_class[0]\n",
        "    scores = school_class[1]\n",
        "\n",
        "    mean = distribution[0]\n",
        "    stdv = distribution[1]\n",
        "\n",
        "    letter_grades = add_noise(scores, mean, stdv)\n",
        "\n",
        "    graded_package.append([idxs, letter_grades])\n",
        "\n",
        "  return graded_package"
      ],
      "metadata": {
        "id": "unoy_mEHD_9M"
      },
      "execution_count": 52,
      "outputs": []
    },
    {
      "cell_type": "code",
      "source": [
        "def score_graded_package(graded_package):\n",
        "  z_score_package = []\n",
        "\n",
        "  for school_class in graded_package:\n",
        "    idxs = school_class[0]\n",
        "    letter_grades = school_class[1]\n",
        "\n",
        "    z_scores = rank_students(letter_grades)\n",
        "\n",
        "    z_score_package.append([idxs, z_scores])\n",
        "\n",
        "  return z_score_package"
      ],
      "metadata": {
        "id": "IOLuNdvqFW8V"
      },
      "execution_count": 59,
      "outputs": []
    },
    {
      "cell_type": "code",
      "source": [
        "\"\"\"\n",
        "Takes a list of letter grades and produces z-scores for each class\n",
        "\n",
        "\n",
        "Parameters:\n",
        "\n",
        "classgrades: a list of letter grades for a particular class\n",
        "\n",
        "\n",
        "Outputs:\n",
        "\n",
        "z_scores: a list of z-scores grades for a particular class\n",
        "\n",
        "\"\"\"\n",
        "\n",
        "def rank_students(classgrades):\n",
        "  scores = [values[grades.index(grade)] for grade in classgrades]\n",
        "  mean = sum(scores)/len(scores)\n",
        "  stdv = statistics.stdev(scores)\n",
        "\n",
        "  z_scores = [(score - mean)/stdv for score in scores]\n",
        "\n",
        "  return z_scores\n"
      ],
      "metadata": {
        "id": "C6kB6NQBR-_m"
      },
      "execution_count": 33,
      "outputs": []
    },
    {
      "cell_type": "code",
      "source": [
        "def compute_total_scores(z_score_package, n_students):\n",
        "  student_final_scores = [0 for _ in range(n_students)]\n",
        "\n",
        "  for school_class in z_score_package:\n",
        "    indices, scores = school_class\n",
        "\n",
        "    for idx, score in zip(indices, scores):\n",
        "      student_final_scores[idx] += score\n",
        "\n",
        "  return student_final_scores"
      ],
      "metadata": {
        "id": "kbR_Zq_GIROL"
      },
      "execution_count": 62,
      "outputs": []
    },
    {
      "cell_type": "code",
      "source": [
        "def compute_total_scores_standard(graded_package, n_students):\n",
        "  student_final_scores = [0 for _ in range(n_students)]\n",
        "\n",
        "  for school_class in graded_package:\n",
        "    indices, letter_grades = school_class\n",
        "\n",
        "    for idx, letter_grade in zip(indices, letter_grades):\n",
        "      student_final_scores[idx] += values[grades.index(letter_grade)]\n",
        "\n",
        "  return student_final_scores"
      ],
      "metadata": {
        "id": "F3oXn2oNNrLU"
      },
      "execution_count": 93,
      "outputs": []
    },
    {
      "cell_type": "code",
      "source": [
        "def compute_decile_retention(student_scores, n):\n",
        "  top_scorers = sorted(range(len(student_scores)), key=lambda i: student_scores[i], reverse=True)[:len(student_scores) // n]\n",
        "  best_students = list(range(len(student_scores)))[-len(student_scores) // n:]\n",
        "\n",
        "  return len(set(top_scorers).intersection(set(best_students)))/(len(student_scores) // n)\n",
        ""
      ],
      "metadata": {
        "id": "barqlxhHJVv0"
      },
      "execution_count": 80,
      "outputs": []
    },
    {
      "cell_type": "code",
      "source": [
        "retention_total = 0\n",
        "num_samples = 0\n",
        "\n",
        "for _ in range(1000):\n",
        "  try:\n",
        "    #generate students and classes\n",
        "    students = generate_students(100)\n",
        "    classes = gen_classes(10, min_average, max_average, min_stdv, max_stdv)\n",
        "\n",
        "    #randomly assign students to classes\n",
        "    class_packages = generate_class_package(students, classes, 5)\n",
        "\n",
        "    #grade students\n",
        "    graded_packages = grade_class_package(class_packages, classes)\n",
        "\n",
        "    #z-score students for each class\n",
        "\n",
        "    z_score_package = score_graded_package(graded_packages)\n",
        "\n",
        "  except ZeroDivisionError:\n",
        "    continue\n",
        "\n",
        "  #take the sum of the z-scores\n",
        "  final_scores = compute_total_scores(z_score_package, 100)\n",
        "\n",
        "  #see how many students from the top 10% are in the actual top 10%\n",
        "\n",
        "  retention_total += compute_decile_retention(final_scores, 10)\n",
        "  num_samples += 1\n",
        "\n",
        "retention_rate = retention_total/num_samples\n",
        "print(f\"Retention rate across {num_samples} samples: {retention_rate}\")"
      ],
      "metadata": {
        "id": "4QZ2CAaqFFsz",
        "colab": {
          "base_uri": "https://localhost:8080/"
        },
        "outputId": "4db1ce45-61ec-4a6e-e393-419775221948"
      },
      "execution_count": 98,
      "outputs": [
        {
          "output_type": "stream",
          "name": "stdout",
          "text": [
            "Retention rate across 453 samples: 0.7699779249448131\n"
          ]
        }
      ]
    },
    {
      "cell_type": "code",
      "source": [
        "retention_total = 0\n",
        "num_samples = 0\n",
        "\n",
        "for _ in range(1000):\n",
        "  try:\n",
        "    #generate students and classes\n",
        "    students = generate_students(100)\n",
        "    classes = gen_classes(10, min_average, max_average, min_stdv, max_stdv)\n",
        "\n",
        "    #randomly assign students to classes\n",
        "    class_packages = generate_class_package(students, classes, 5)\n",
        "\n",
        "    #grade students\n",
        "    graded_packages = grade_class_package(class_packages, classes)\n",
        "\n",
        "    #score students by gpa\n",
        "    standard_scored_package = score_graded_package(graded_packages)\n",
        "\n",
        "  except ZeroDivisionError:\n",
        "    continue\n",
        "\n",
        "  #take the sum of the z-scores\n",
        "  final_scores = compute_total_scores(standard_scored_package, 100)\n",
        "\n",
        "  #see how many students from the top 10% are in the actual top 10%\n",
        "\n",
        "  retention_total += compute_decile_retention(final_scores, 10)\n",
        "  num_samples += 1\n",
        "\n",
        "retention_rate = retention_total/num_samples\n",
        "print(f\"Retention rate across {num_samples} samples: {retention_rate}\")"
      ],
      "metadata": {
        "colab": {
          "base_uri": "https://localhost:8080/"
        },
        "id": "C60diVYUNRlS",
        "outputId": "2d861847-36fb-45e4-b8f5-394487720cf5"
      },
      "execution_count": 99,
      "outputs": [
        {
          "output_type": "stream",
          "name": "stdout",
          "text": [
            "Retention rate across 469 samples: 0.7744136460554367\n"
          ]
        }
      ]
    },
    {
      "cell_type": "code",
      "source": [
        "rank_students([\"A+\", \"A+\", \"A\", \"A\", \"A-\", \"B+\",])"
      ],
      "metadata": {
        "colab": {
          "base_uri": "https://localhost:8080/"
        },
        "id": "776jtNuHS0ud",
        "outputId": "5f9813b9-173f-474a-9612-4fd5052c771f"
      },
      "execution_count": null,
      "outputs": [
        {
          "output_type": "execute_result",
          "data": {
            "text/plain": [
              "[1.0614455552060436,\n",
              " 1.0614455552060436,\n",
              " 0.0816496580927723,\n",
              " 0.0816496580927723,\n",
              " -0.8981462390204988,\n",
              " -1.3880441875771345]"
            ]
          },
          "metadata": {},
          "execution_count": 11
        }
      ]
    },
    {
      "cell_type": "code",
      "source": [
        "\"\"\"\n",
        "Algorithm:\n",
        "\n",
        "1. Translate Grades to numbers\n",
        "2. Find the mean and standard deviation of grades\n",
        "3. Give each student a score of their z score\n",
        "4. Rank students by average z score\n",
        "\n",
        "\n",
        "\"\"\""
      ],
      "metadata": {
        "colab": {
          "base_uri": "https://localhost:8080/",
          "height": 53
        },
        "id": "rgiCrVLARHZN",
        "outputId": "d0c902c2-a007-490a-c261-952649286987"
      },
      "execution_count": null,
      "outputs": [
        {
          "output_type": "execute_result",
          "data": {
            "text/plain": [
              "'\\nAlgorithm:\\n\\n1. Translate Grades to numbers\\n2. Find the mean and standard deviation of grades\\n3. Give each student a score of their z score\\n4. Rank students by average z score\\n\\n\\n'"
            ],
            "application/vnd.google.colaboratory.intrinsic+json": {
              "type": "string"
            }
          },
          "metadata": {},
          "execution_count": 2
        }
      ]
    }
  ]
}